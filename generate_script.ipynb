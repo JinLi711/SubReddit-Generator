{
 "cells": [
  {
   "cell_type": "code",
   "execution_count": 32,
   "metadata": {},
   "outputs": [],
   "source": [
    "# import keras\n",
    "from keras.models import load_model\n",
    "import json\n",
    "from nltk.tokenize import word_tokenize\n",
    "import numpy as np\n",
    "import random\n",
    "import sys\n",
    "import pandas as pd"
   ]
  },
  {
   "cell_type": "code",
   "execution_count": 5,
   "metadata": {},
   "outputs": [],
   "source": [
    "# model = load_model('RNN_weights.best.hdf5')\n",
    "model = load_model('my_model.h5')"
   ]
  },
  {
   "cell_type": "code",
   "execution_count": 67,
   "metadata": {
    "collapsed": true
   },
   "outputs": [],
   "source": [
    "def sample(preds, temperature=1.0):\n",
    "    \"\"\"\n",
    "    Compute new probability distribution based on the temperature\n",
    "    Higher temperature creates more randomness.\n",
    "    \n",
    "    :param preds: numpy array of shape (unique chars,), and elements sum to 1\n",
    "    :type  preds: numpy.ndarray\n",
    "    :param temperature: characterizes the entropy of probability distribution\n",
    "    :type  temperature: float\n",
    "    :returns: a number 0 to the length of preds - 1\n",
    "    :rtype:   int\n",
    "    \"\"\"\n",
    "    \n",
    "    preds = np.asarray(preds).astype('float64')\n",
    "    preds = np.log(preds) / temperature\n",
    "    exp_preds = np.exp(preds)\n",
    "    preds = exp_preds / np.sum(exp_preds)\n",
    "    probas = np.random.multinomial(1, preds, 1)\n",
    "    return np.argmax(probas)"
   ]
  },
  {
   "cell_type": "code",
   "execution_count": 11,
   "metadata": {
    "collapsed": true
   },
   "outputs": [],
   "source": [
    "# tokens[:200]\n",
    "\n",
    "def find_random_sentence(tokens, word, maxlen):\n",
    "    list_of_appearance = np.where(np.array(tokens) == word)[0]\n",
    "    stop_characters = set({'...', '.', '?', '!'})\n",
    "    random_index = random.choice(list_of_appearance)\n",
    "    index = random_index\n",
    "    \n",
    "    sentence = []\n",
    "    while (tokens[index] not in stop_characters):\n",
    "        sentence.append(tokens[index])\n",
    "        index += 1\n",
    "    sentence.append(tokens[index])\n",
    "    \n",
    "    index = random_index\n",
    "    \n",
    "    while ( (tokens[index] not in stop_characters) or len(sentence) < 11):\n",
    "        sentence.insert(0, tokens[index])\n",
    "        index -= 1\n",
    "    \n",
    "    return sentence[:maxlen]"
   ]
  },
  {
   "cell_type": "code",
   "execution_count": 79,
   "metadata": {
    "collapsed": true
   },
   "outputs": [],
   "source": [
    "def text_generate_with_word(\n",
    "    model, \n",
    "    text, \n",
    "    word_indices,\n",
    "    word,\n",
    "    maxlen=10, \n",
    "    temperature=1.0,\n",
    "    textlen=40):\n",
    "    \"\"\"\n",
    "    Generate text based on a model.\n",
    "    The starting seed is based on a word input \n",
    "    \n",
    "    :param model: trained keras model\n",
    "    :type  model: keras.engine.sequential.Sequential\n",
    "    :param text: lyrics\n",
    "    :type  text: str\n",
    "    :param char_indices: dictionary mapping a character to its integer placeholder\n",
    "    :type  char_indices: dict\n",
    "    :param word: the input starting word\n",
    "    :type  word: str\n",
    "    :param maxlen: maximum length of the sequences\n",
    "    :type  maxlen: int\n",
    "    :param textlen: Number of characters of generated sequence\n",
    "    :type  textlen: int\n",
    "    \"\"\"\n",
    "    \n",
    "    stop_characters = set({'...', '.', '?', '!'})\n",
    "    \n",
    "    generated_text = find_random_sentence(tokens, word, maxlen)\n",
    "    full_sentence = \" \".join (generated_text)\n",
    "    print(len(generated_text))\n",
    "    print('--- Generating with seed: \"' + full_sentence + '\"')\n",
    "    \n",
    "    print('------ temperature:', temperature)\n",
    "    sys.stdout.write(full_sentence)\n",
    "    \n",
    "    out_text = generated_text\n",
    "    \n",
    "#     for i in range(textlen):\n",
    "    stop_generate = False\n",
    "    i = 0\n",
    "    while ( (i < textlen) or (not stop_generate) ):\n",
    "        \n",
    "        sampled = []\n",
    "        for t, word in enumerate(generated_text):\n",
    "            word_dimensions = list (wordvectors_mini[word])\n",
    "            sampled.append(word_dimensions)\n",
    "        sampled = np.array(sampled)\n",
    "        sampled = np.reshape(sampled, (1,) + sampled.shape ) \n",
    "\n",
    "        preds = model.predict(sampled, verbose=0)[0]\n",
    "        next_index = sample(preds, temperature)\n",
    "        next_index = str(next_index)\n",
    "        next_word = word_indices[next_index]\n",
    "\n",
    "        generated_text.append ( next_word)\n",
    "        generated_text = generated_text[1:]\n",
    "        sys.stdout.write(\" \" + next_word)\n",
    "        out_text.append(next_word)\n",
    "        \n",
    "        if (next_word in stop_characters):\n",
    "            stop_generate = True\n",
    "        i += 1\n",
    "    return out_text\n"
   ]
  },
  {
   "cell_type": "code",
   "execution_count": 76,
   "metadata": {},
   "outputs": [],
   "source": [
    "text = open('all.txt', 'r').read()\n",
    "text = text.lower()\n",
    "\n",
    "tokens = word_tokenize(text)\n",
    "with open('mapping.json') as infile:\n",
    "    word_indices = json.load(infile)"
   ]
  },
  {
   "cell_type": "code",
   "execution_count": 63,
   "metadata": {},
   "outputs": [],
   "source": [
    "# wordvectors_mini = json.loads('wordvectors_mini.json')#.decode(\"utf-8\")\n",
    "# wordvectors_mini = json.load('test.json')\n",
    "with open('wordvectors_mini.json') as infile:\n",
    "    wordvectors_mini = json.load(infile)\n",
    "# text_generate_with_word(model, tokens, word_indices, 'pizza')\n",
    "# test_csv = pd.read_csv('wordvectors_mini.csv')"
   ]
  },
  {
   "cell_type": "code",
   "execution_count": 58,
   "metadata": {},
   "outputs": [],
   "source": [
    "# test_csv.to_dict()#.shape#.columns"
   ]
  },
  {
   "cell_type": "code",
   "execution_count": 64,
   "metadata": {},
   "outputs": [],
   "source": [
    "# test_csv\n",
    "# wordvectors_mini"
   ]
  },
  {
   "cell_type": "code",
   "execution_count": 80,
   "metadata": {},
   "outputs": [
    {
     "name": "stdout",
     "output_type": "stream",
     "text": [
      "20\n",
      "--- Generating with seed: \"i would never order pineapple on my pizza pizza but have eaten it before at parties or catered events and\"\n",
      "------ temperature: 1.0\n",
      "i would never order pineapple on my pizza pizza but have eaten it before at parties or catered events and didn ( school , the time and its to ... then for it our until you may be but since and went to day . . without a kid is just a voice that i could old very she every"
     ]
    },
    {
     "data": {
      "text/plain": [
       "['i',\n",
       " 'would',\n",
       " 'never',\n",
       " 'order',\n",
       " 'pineapple',\n",
       " 'on',\n",
       " 'my',\n",
       " 'pizza',\n",
       " 'pizza',\n",
       " 'but',\n",
       " 'have',\n",
       " 'eaten',\n",
       " 'it',\n",
       " 'before',\n",
       " 'at',\n",
       " 'parties',\n",
       " 'or',\n",
       " 'catered',\n",
       " 'events',\n",
       " 'and',\n",
       " 'didn',\n",
       " 'didn',\n",
       " '(',\n",
       " 'school',\n",
       " ',',\n",
       " 'the',\n",
       " 'time',\n",
       " 'and',\n",
       " 'its',\n",
       " 'to',\n",
       " '...',\n",
       " 'then',\n",
       " 'for',\n",
       " 'it',\n",
       " 'our',\n",
       " 'until',\n",
       " 'you',\n",
       " 'may',\n",
       " 'be',\n",
       " 'but',\n",
       " 'since',\n",
       " 'and',\n",
       " 'went',\n",
       " 'to',\n",
       " 'day',\n",
       " '.',\n",
       " '.',\n",
       " 'without',\n",
       " 'a',\n",
       " 'kid',\n",
       " 'is',\n",
       " 'just',\n",
       " 'a',\n",
       " 'voice',\n",
       " 'that',\n",
       " 'i',\n",
       " 'could',\n",
       " 'old',\n",
       " 'very',\n",
       " 'she',\n",
       " 'every']"
      ]
     },
     "execution_count": 80,
     "metadata": {},
     "output_type": "execute_result"
    }
   ],
   "source": [
    "text_generate_with_word(model, tokens, word_indices, 'pizza', maxlen=20)"
   ]
  },
  {
   "cell_type": "code",
   "execution_count": 73,
   "metadata": {},
   "outputs": [
    {
     "data": {
      "text/plain": [
       "6788"
      ]
     },
     "execution_count": 73,
     "metadata": {},
     "output_type": "execute_result"
    }
   ],
   "source": []
  },
  {
   "cell_type": "code",
   "execution_count": null,
   "metadata": {},
   "outputs": [],
   "source": []
  },
  {
   "cell_type": "code",
   "execution_count": null,
   "metadata": {},
   "outputs": [],
   "source": []
  },
  {
   "cell_type": "code",
   "execution_count": null,
   "metadata": {
    "collapsed": true
   },
   "outputs": [],
   "source": []
  }
 ],
 "metadata": {
  "kernelspec": {
   "display_name": "Python 3",
   "language": "python",
   "name": "python3"
  },
  "language_info": {
   "codemirror_mode": {
    "name": "ipython",
    "version": 3
   },
   "file_extension": ".py",
   "mimetype": "text/x-python",
   "name": "python",
   "nbconvert_exporter": "python",
   "pygments_lexer": "ipython3",
   "version": "3.6.3"
  },
  "toc": {
   "base_numbering": 1,
   "nav_menu": {},
   "number_sections": true,
   "sideBar": true,
   "skip_h1_title": false,
   "title_cell": "Table of Contents",
   "title_sidebar": "Contents",
   "toc_cell": false,
   "toc_position": {},
   "toc_section_display": true,
   "toc_window_display": false
  }
 },
 "nbformat": 4,
 "nbformat_minor": 2
}
